{
 "cells": [
  {
   "cell_type": "code",
   "execution_count": 1,
   "metadata": {},
   "outputs": [],
   "source": [
    "from IPython.core.display import HTML \n",
    "import os"
   ]
  },
  {
   "cell_type": "markdown",
   "metadata": {},
   "source": [
    "## Defining Neo4j version and local path"
   ]
  },
  {
   "cell_type": "code",
   "execution_count": 2,
   "metadata": {},
   "outputs": [
    {
     "name": "stdout",
     "output_type": "stream",
     "text": [
      "env: NEO4J_VERSION=neo4j-community-3.5.7\n",
      "env: NEO4J_PATH=neo4j-community-3.5.7\n"
     ]
    }
   ],
   "source": [
    "%env NEO4J_VERSION neo4j-community-3.5.7\n",
    "%env NEO4J_PATH    neo4j-community-3.5.7"
   ]
  },
  {
   "cell_type": "markdown",
   "metadata": {},
   "source": [
    "## Downloading and extracting Neo4j"
   ]
  },
  {
   "cell_type": "code",
   "execution_count": 3,
   "metadata": {},
   "outputs": [
    {
     "name": "stdout",
     "output_type": "stream",
     "text": [
      "tar: neo4j-community-3.5.7.tar.gz: Cannot open: No such file or directory\n",
      "tar: Error is not recoverable: exiting now\n"
     ]
    }
   ],
   "source": [
    "# !wget https://neo4j.com/artifact.php?name=${NEO4J_VERSION}-unix.tar.gz -q --show-progress\n",
    "# !mv artifact.php?name=${NEO4J_VERSION}-unix.tar.gz ${NEO4J_VERSION}.tar.gz\n",
    "!tar -xvf ${NEO4J_VERSION}.tar.gz >/dev/null \n",
    "# !rm       ${NEO4J_VERSION}.tar.gz"
   ]
  },
  {
   "cell_type": "markdown",
   "metadata": {},
   "source": [
    "## Start Neo4j server"
   ]
  },
  {
   "cell_type": "code",
   "execution_count": 4,
   "metadata": {},
   "outputs": [
    {
     "name": "stdout",
     "output_type": "stream",
     "text": [
      "env: NEO4J_dbms_connectors_default__advertised__address=blablabla\n"
     ]
    }
   ],
   "source": [
    "%env NEO4J_dbms_connectors_default__advertised__address blablabla"
   ]
  },
  {
   "cell_type": "code",
   "execution_count": 5,
   "metadata": {},
   "outputs": [
    {
     "name": "stdout",
     "output_type": "stream",
     "text": [
      "Active database: graph.db\n",
      "Directories in use:\n",
      "  home:         /home/matheus/local-home/git/github/org.thedatasociety/binderhub-neo4j/example/neo4j-community-3.5.7\n",
      "  config:       /home/matheus/local-home/git/github/org.thedatasociety/binderhub-neo4j/example/neo4j-community-3.5.7/conf\n",
      "  logs:         /home/matheus/local-home/git/github/org.thedatasociety/binderhub-neo4j/example/neo4j-community-3.5.7/logs\n",
      "  plugins:      /home/matheus/local-home/git/github/org.thedatasociety/binderhub-neo4j/example/neo4j-community-3.5.7/plugins\n",
      "  import:       /home/matheus/local-home/git/github/org.thedatasociety/binderhub-neo4j/example/neo4j-community-3.5.7/import\n",
      "  data:         /home/matheus/local-home/git/github/org.thedatasociety/binderhub-neo4j/example/neo4j-community-3.5.7/data\n",
      "  certificates: /home/matheus/local-home/git/github/org.thedatasociety/binderhub-neo4j/example/neo4j-community-3.5.7/certificates\n",
      "  run:          /home/matheus/local-home/git/github/org.thedatasociety/binderhub-neo4j/example/neo4j-community-3.5.7/run\n",
      "Starting Neo4j.\n",
      "Started neo4j (pid 102). It is available at http://localhost:7474/\n",
      "There may be a short delay until the server is ready.\n",
      "See /home/matheus/local-home/git/github/org.thedatasociety/binderhub-neo4j/example/neo4j-community-3.5.7/logs/neo4j.log for current status.\n"
     ]
    }
   ],
   "source": [
    "!./${NEO4J_PATH}/bin/neo4j start"
   ]
  },
  {
   "cell_type": "code",
   "execution_count": 6,
   "metadata": {},
   "outputs": [
    {
     "name": "stdout",
     "output_type": "stream",
     "text": [
      "env: SERVER_URL=hub.gke.mybinder.org\n",
      "env: SERVER_URL=0.0.0.0:8888\n",
      "env: JUPYTERHUB_SERVICE_PREFIX=\n",
      "env: PROXY_SUBURL=/proxy/7474/browser/\n"
     ]
    }
   ],
   "source": [
    "%env SERVER_URL   hub.gke.mybinder.org\n",
    "%env SERVER_URL   0.0.0.0:8888\n",
    "%env JUPYTERHUB_SERVICE_PREFIX \n",
    "%env PROXY_SUBURL  /proxy/7474/browser/"
   ]
  },
  {
   "cell_type": "code",
   "execution_count": 7,
   "metadata": {},
   "outputs": [
    {
     "data": {
      "text/html": [
       "Neo4j will be available at: <a href=\"http://0.0.0.0:8888/proxy/7474/browser/\" target=\"_blank\">http://0.0.0.0:8888/proxy/7474/browser/</a>"
      ],
      "text/plain": [
       "<IPython.core.display.HTML object>"
      ]
     },
     "metadata": {},
     "output_type": "display_data"
    }
   ],
   "source": [
    "html = 'Neo4j will be available at: <a href=\"http://{0}{1}{2}\" target=\"_blank\">http://{0}{1}{2}</a>'\n",
    "display(HTML(html.format(os.environ['SERVER_URL'],os.environ['JUPYTERHUB_SERVICE_PREFIX'],os.environ['PROXY_SUBURL'])))"
   ]
  },
  {
   "cell_type": "code",
   "execution_count": 8,
   "metadata": {},
   "outputs": [
    {
     "name": "stdout",
     "output_type": "stream",
     "text": [
      "curl: (7) Failed to connect to localhost port 7474: Connection refused\n"
     ]
    }
   ],
   "source": [
    "!curl http://localhost:7474/"
   ]
  },
  {
   "cell_type": "code",
   "execution_count": null,
   "metadata": {},
   "outputs": [],
   "source": []
  }
 ],
 "metadata": {
  "kernelspec": {
   "display_name": "Python 3",
   "language": "python",
   "name": "python3"
  },
  "language_info": {
   "codemirror_mode": {
    "name": "ipython",
    "version": 3
   },
   "file_extension": ".py",
   "mimetype": "text/x-python",
   "name": "python",
   "nbconvert_exporter": "python",
   "pygments_lexer": "ipython3",
   "version": "3.7.3"
  }
 },
 "nbformat": 4,
 "nbformat_minor": 2
}
